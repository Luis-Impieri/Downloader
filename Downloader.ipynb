{
 "cells": [
  {
   "cell_type": "code",
   "execution_count": 9,
   "id": "4a5e9635",
   "metadata": {},
   "outputs": [],
   "source": [
    "from pytube import YouTube"
   ]
  },
  {
   "cell_type": "code",
   "execution_count": 11,
   "id": "2cb5dc47",
   "metadata": {},
   "outputs": [
    {
     "name": "stdout",
     "output_type": "stream",
     "text": [
      "Digite ou cole a url do videohttps://www.youtube.com/watch?v=4dFn2r-iq_4\n",
      "Titulo:  Pokemon Cries - #402 Kricketune\n",
      "Views:  1592483\n"
     ]
    },
    {
     "data": {
      "text/plain": [
       "'D:\\\\Animes\\\\Pokemon Cries - 402 Kricketune.mp4'"
      ]
     },
     "execution_count": 11,
     "metadata": {},
     "output_type": "execute_result"
    }
   ],
   "source": [
    "video = input(\"Digite ou cole a url do video\")\n",
    "yt = YouTube(video)\n",
    "\n",
    "print(\"Titulo: \", yt.title)\n",
    "print(\"Views: \", yt.views)\n",
    "\n",
    "vd = yt.streams.get_highest_resolution()\n",
    "\n",
    "vd.download('D:\\Animes')"
   ]
  },
  {
   "cell_type": "code",
   "execution_count": null,
   "id": "2d91f998",
   "metadata": {},
   "outputs": [],
   "source": []
  }
 ],
 "metadata": {
  "kernelspec": {
   "display_name": "Python 3 (ipykernel)",
   "language": "python",
   "name": "python3"
  },
  "language_info": {
   "codemirror_mode": {
    "name": "ipython",
    "version": 3
   },
   "file_extension": ".py",
   "mimetype": "text/x-python",
   "name": "python",
   "nbconvert_exporter": "python",
   "pygments_lexer": "ipython3",
   "version": "3.11.5"
  }
 },
 "nbformat": 4,
 "nbformat_minor": 5
}
